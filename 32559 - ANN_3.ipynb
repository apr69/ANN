{
 "cells": [
  {
   "cell_type": "code",
   "execution_count": 24,
   "metadata": {
    "executionInfo": {
     "elapsed": 685,
     "status": "ok",
     "timestamp": 1706511776117,
     "user": {
      "displayName": "ASHISH RANSING",
      "userId": "04089927814465254916"
     },
     "user_tz": -330
    },
    "id": "vH2T0KuK08Z0"
   },
   "outputs": [],
   "source": [
    "import numpy as np\n",
    "\n",
    "def check_activation(output):\n",
    "    if output >= 0:\n",
    "        return 1\n",
    "    else:\n",
    "        return 0\n",
    "\n",
    "def testing_prediction(inputs,weights,bias):\n",
    "    predictions = []\n",
    "\n",
    "    for i in range(len(inputs)):\n",
    "        weighted_sum = np.dot(inputs[i],weights) + bias\n",
    "        print(\"Weighted Sum : \",weighted_sum)\n",
    "        predictions.append(check_activation(weighted_sum))\n",
    "    return predictions\n",
    "\n",
    "def training_predictions(inputs):\n",
    "    epochs = 1000\n",
    "    bias = 1\n",
    "    length_inputs = len(inputs)\n",
    "    binary_input = len(inputs[0])\n",
    "    expected_output = np.array([1,0,1,0,1,0,1,0,1,0])\n",
    "    weights = np.random.rand(binary_input)\n",
    "    weighted_sum = 0\n",
    "    learning_rate = 0.1\n",
    "\n",
    "    for epoch in range(epochs):\n",
    "        for j in range(length_inputs):\n",
    "            weighted_sum = np.dot(inputs[j],weights) + bias\n",
    "            predict = check_activation(weighted_sum)\n",
    "            error = expected_output[j] - predict\n",
    "            weights = weights + learning_rate*(error)*inputs[j]\n",
    "            bias = bias + learning_rate*error\n",
    "\n",
    "    return weights,bias"
   ]
  },
  {
   "cell_type": "code",
   "execution_count": 25,
   "metadata": {
    "executionInfo": {
     "elapsed": 2,
     "status": "ok",
     "timestamp": 1706511776118,
     "user": {
      "displayName": "ASHISH RANSING",
      "userId": "04089927814465254916"
     },
     "user_tz": -330
    },
    "id": "SAfeP0us9cys"
   },
   "outputs": [],
   "source": [
    "inputs = np.array([[0,0,1,1,0,0,0,0],\n",
    "                   [0,0,1,1,0,0,0,1],\n",
    "                   [0,0,1,1,0,0,1,0],\n",
    "                   [0,0,1,1,0,0,1,1],\n",
    "                   [0,0,1,1,0,1,0,0],\n",
    "                   [0,0,1,1,0,1,0,1],\n",
    "                   [0,0,1,1,0,1,1,0],\n",
    "                   [0,0,1,1,0,1,1,1],\n",
    "                   [0,0,1,1,1,0,0,0],\n",
    "                   [0,0,1,1,1,0,0,1]])"
   ]
  },
  {
   "cell_type": "code",
   "execution_count": 26,
   "metadata": {
    "colab": {
     "base_uri": "https://localhost:8080/"
    },
    "executionInfo": {
     "elapsed": 640,
     "status": "ok",
     "timestamp": 1706511777348,
     "user": {
      "displayName": "ASHISH RANSING",
      "userId": "04089927814465254916"
     },
     "user_tz": -330
    },
    "id": "50uCWUkX960Q",
    "outputId": "8f4d4928-01b8-4b13-8f1b-5f07d76f95d3"
   },
   "outputs": [
    {
     "name": "stdout",
     "output_type": "stream",
     "text": [
      "[ 0.92911976  0.29974937 -0.29766688  0.05891049  0.21108086 -0.06813111\n",
      "  0.16128103 -0.51968308]\n",
      "0.40000000000000013\n"
     ]
    }
   ],
   "source": [
    "weights,bias = training_predictions(inputs)\n",
    "print(weights)\n",
    "print(bias)"
   ]
  },
  {
   "cell_type": "code",
   "execution_count": 27,
   "metadata": {
    "colab": {
     "base_uri": "https://localhost:8080/"
    },
    "executionInfo": {
     "elapsed": 5,
     "status": "ok",
     "timestamp": 1706511777348,
     "user": {
      "displayName": "ASHISH RANSING",
      "userId": "04089927814465254916"
     },
     "user_tz": -330
    },
    "id": "vgA5qm8m-Ehv",
    "outputId": "34ced4aa-be0b-43e0-a6ee-4686f6283ce9"
   },
   "outputs": [
    {
     "name": "stdout",
     "output_type": "stream",
     "text": [
      "Weighted Sum :  0.16124361550047933\n",
      "Weighted Sum :  -0.3584394681534162\n",
      "Weighted Sum :  0.32252464939373193\n",
      "Weighted Sum :  -0.19715843426016355\n",
      "Weighted Sum :  0.0931125034296737\n",
      "Weighted Sum :  -0.4265705802242218\n",
      "Weighted Sum :  0.25439353732292636\n",
      "Weighted Sum :  -0.26528954633096913\n",
      "Weighted Sum :  0.372324477915053\n",
      "Weighted Sum :  -0.14735860573884252\n",
      "[1, 0, 1, 0, 1, 0, 1, 0, 1, 0]\n"
     ]
    }
   ],
   "source": [
    "print(testing_prediction(inputs,weights,bias))"
   ]
  },
  {
   "cell_type": "code",
   "execution_count": null,
   "metadata": {
    "id": "2PHgdIiP-M6_"
   },
   "outputs": [],
   "source": []
  }
 ],
 "metadata": {
  "colab": {
   "authorship_tag": "ABX9TyNswHIzZQRo7QHuFqjkauul",
   "provenance": []
  },
  "kernelspec": {
   "display_name": "Python 3 (ipykernel)",
   "language": "python",
   "name": "python3"
  },
  "language_info": {
   "codemirror_mode": {
    "name": "ipython",
    "version": 3
   },
   "file_extension": ".py",
   "mimetype": "text/x-python",
   "name": "python",
   "nbconvert_exporter": "python",
   "pygments_lexer": "ipython3",
   "version": "3.9.12"
  }
 },
 "nbformat": 4,
 "nbformat_minor": 1
}
