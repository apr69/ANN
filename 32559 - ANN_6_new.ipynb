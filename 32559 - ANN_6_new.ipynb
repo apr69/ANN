{
 "cells": [
  {
   "cell_type": "code",
   "execution_count": 5,
   "id": "41858498",
   "metadata": {},
   "outputs": [
    {
     "name": "stdout",
     "output_type": "stream",
     "text": [
      "Predictions after training:\n",
      "[[0]\n",
      " [0]\n",
      " [0]\n",
      " [1]]\n"
     ]
    }
   ],
   "source": [
    "import numpy as np\n",
    "\n",
    "def sigmoid(x):\n",
    "    return 1 / (1 + np.exp(-x))\n",
    "\n",
    "def sigmoid_derivative(x):\n",
    "    return x * (1 - x)\n",
    "\n",
    "def forward_propagation(x, wih, bih, who, bho):\n",
    "    hidden_output = sigmoid(np.dot(x, wih) + bih)\n",
    "    output = sigmoid(np.dot(hidden_output, who) + bho)\n",
    "    return hidden_output, output\n",
    "\n",
    "def backward_propagation(x, y, hidden_output, output, wih, who, bih, bho, lr):\n",
    "    output_error = y - output\n",
    "    output_delta = output_error * sigmoid_derivative(output)\n",
    "    \n",
    "    hidden_error = np.dot(output_delta, who.T)\n",
    "    hidden_delta = hidden_error * sigmoid_derivative(hidden_output)\n",
    "    \n",
    "    who += np.dot(hidden_output.T, output_delta) * lr\n",
    "    bho += np.sum(output_delta, axis=0, keepdims=True) * lr\n",
    "    wih += np.dot(x.T, hidden_delta) * lr\n",
    "    bih += np.sum(hidden_delta, axis=0, keepdims=True) * lr\n",
    "\n",
    "input_size = 2\n",
    "hidden_size = 3\n",
    "output_size = 1\n",
    "\n",
    "wih = np.random.randn(input_size, hidden_size)\n",
    "bih = np.random.randn(1, hidden_size)\n",
    "who = np.random.randn(hidden_size, output_size)\n",
    "bho = np.random.randn(1, output_size)\n",
    "\n",
    "inputs = np.array([[0, 0], [0, 1], [1, 0], [1, 1]]) #And Gate\n",
    "targets = np.array([[0], [0], [0], [1]])\n",
    "\n",
    "epochs = 1000\n",
    "lr = 0.1\n",
    "\n",
    "for epoch in range(epochs):\n",
    "    hidden_output, output = forward_propagation(inputs, wih, bih, who, bho)\n",
    "    \n",
    "    backward_propagation(inputs, targets, hidden_output, output, wih, who, bih, bho, lr)\n",
    "    \n",
    "    loss = np.mean(np.square(targets - output))\n",
    "\n",
    "test_input = np.array([[0, 0], [0, 1], [1, 0], [1, 1]])\n",
    "hidden_output, predictions = forward_propagation(test_input, wih, bih, who, bho)\n",
    "print(\"Predictions after training:\")\n",
    "print(np.round(predictions).astype(int))\n"
   ]
  },
  {
   "cell_type": "code",
   "execution_count": null,
   "id": "6e05f08e",
   "metadata": {},
   "outputs": [],
   "source": []
  }
 ],
 "metadata": {
  "kernelspec": {
   "display_name": "Python 3 (ipykernel)",
   "language": "python",
   "name": "python3"
  },
  "language_info": {
   "codemirror_mode": {
    "name": "ipython",
    "version": 3
   },
   "file_extension": ".py",
   "mimetype": "text/x-python",
   "name": "python",
   "nbconvert_exporter": "python",
   "pygments_lexer": "ipython3",
   "version": "3.9.12"
  }
 },
 "nbformat": 4,
 "nbformat_minor": 5
}
