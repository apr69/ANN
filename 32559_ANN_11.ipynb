{
  "cells": [
    {
      "cell_type": "code",
      "execution_count": 1,
      "id": "d0ff6b2d",
      "metadata": {
        "id": "d0ff6b2d"
      },
      "outputs": [],
      "source": [
        "import matplotlib.pyplot as plt"
      ]
    },
    {
      "cell_type": "code",
      "execution_count": 2,
      "id": "f2425fa9",
      "metadata": {
        "colab": {
          "base_uri": "https://localhost:8080/"
        },
        "id": "f2425fa9",
        "outputId": "ccfbd003-5a48-462d-d084-de11cf2d2d97"
      },
      "outputs": [
        {
          "output_type": "stream",
          "name": "stdout",
          "text": [
            "Downloading data from https://storage.googleapis.com/tensorflow/tf-keras-datasets/mnist.npz\n",
            "11490434/11490434 [==============================] - 0s 0us/step\n",
            "X_train shape: (60000, 28, 28), X_test shape: (10000, 28, 28)\n"
          ]
        }
      ],
      "source": [
        "from tensorflow.keras.datasets import mnist\n",
        "(X_train, y_train), (X_test, y_test) = mnist.load_data()\n",
        "print(f'X_train shape: {X_train.shape}, X_test shape: {X_test.shape}')\n"
      ]
    },
    {
      "cell_type": "code",
      "execution_count": 3,
      "id": "b9d2df9d",
      "metadata": {
        "id": "b9d2df9d"
      },
      "outputs": [],
      "source": [
        "from tensorflow.keras.utils import to_categorical\n",
        "\n",
        "# convert image datatype from integers to floats\n",
        "X_train = X_train.astype('float32')\n",
        "X_test = X_test.astype('float32')\n",
        "\n",
        "# normalising piel values\n",
        "X_train = X_train/255.0\n",
        "X_test = X_test/255.0\n",
        "\n",
        "# reshape images to add channel dimension\n",
        "X_train = X_train.reshape(X_train.shape[0], X_train.shape[1], X_train.shape[2], 1)\n",
        "X_test = X_test.reshape(X_test.shape[0], X_test.shape[1], X_test.shape[2], 1)\n",
        "\n",
        "# One-hot encoding label\n",
        "y_train = to_categorical(y_train)\n",
        "y_test = to_categorical(y_test)\n"
      ]
    },
    {
      "cell_type": "code",
      "execution_count": 4,
      "id": "7adac902",
      "metadata": {
        "id": "7adac902"
      },
      "outputs": [],
      "source": [
        "from tensorflow.keras.models import Sequential\n",
        "from tensorflow.keras.layers import Conv2D, MaxPooling2D, Dense, Flatten\n",
        "\n",
        "model = Sequential()\n",
        "\n",
        "# Layer 1\n",
        "# Conv 1\n",
        "model.add(Conv2D(filters=6, kernel_size=(5, 5), strides=1, activation = 'relu', input_shape = (28,28,1)))\n",
        "# Pooling 1\n",
        "model.add(MaxPooling2D(pool_size=(2, 2), strides = 2))\n",
        "\n",
        "# Layer 2\n",
        "# Conv 2\n",
        "model.add(Conv2D(filters=16, kernel_size=(5, 5), strides=1, activation='relu'))\n",
        "# Pooling 2\n",
        "model.add(MaxPooling2D(pool_size = 2, strides = 2))\n",
        "\n",
        "# Flatten\n",
        "model.add(Flatten())\n",
        "\n",
        "# Layer 3\n",
        "# Fully connected layer 1\n",
        "model.add(Dense(units=120, activation='relu'))\n",
        "\n",
        "#Layer 4\n",
        "#Fully connected layer 2\n",
        "model.add(Dense(units=84, activation='relu'))\n",
        "\n",
        "#Layer 5\n",
        "#Output Layer\n",
        "model.add(Dense(units=10, activation='softmax'))\n",
        "\n",
        "model.compile(optimizer='adam', loss='categorical_crossentropy', metrics=['accuracy'])\n"
      ]
    },
    {
      "cell_type": "code",
      "execution_count": 5,
      "id": "82566f5a",
      "metadata": {
        "colab": {
          "base_uri": "https://localhost:8080/"
        },
        "id": "82566f5a",
        "outputId": "cbcd05ed-4493-4d0b-b70f-789d5b82e164"
      },
      "outputs": [
        {
          "output_type": "stream",
          "name": "stdout",
          "text": [
            "Epoch 1/20\n",
            "117/117 [==============================] - 7s 9ms/step - loss: 0.7301 - accuracy: 0.8168 - val_loss: 0.1973 - val_accuracy: 0.9411\n",
            "Epoch 2/20\n",
            "117/117 [==============================] - 1s 7ms/step - loss: 0.1662 - accuracy: 0.9507 - val_loss: 0.1056 - val_accuracy: 0.9693\n",
            "Epoch 3/20\n",
            "117/117 [==============================] - 1s 8ms/step - loss: 0.1061 - accuracy: 0.9690 - val_loss: 0.0805 - val_accuracy: 0.9751\n",
            "Epoch 4/20\n",
            "117/117 [==============================] - 1s 8ms/step - loss: 0.0845 - accuracy: 0.9742 - val_loss: 0.0630 - val_accuracy: 0.9805\n",
            "Epoch 5/20\n",
            "117/117 [==============================] - 1s 6ms/step - loss: 0.0686 - accuracy: 0.9787 - val_loss: 0.0536 - val_accuracy: 0.9825\n",
            "Epoch 6/20\n",
            "117/117 [==============================] - 1s 6ms/step - loss: 0.0574 - accuracy: 0.9821 - val_loss: 0.0516 - val_accuracy: 0.9808\n",
            "Epoch 7/20\n",
            "117/117 [==============================] - 1s 6ms/step - loss: 0.0502 - accuracy: 0.9846 - val_loss: 0.0441 - val_accuracy: 0.9854\n",
            "Epoch 8/20\n",
            "117/117 [==============================] - 1s 6ms/step - loss: 0.0468 - accuracy: 0.9858 - val_loss: 0.0453 - val_accuracy: 0.9845\n",
            "Epoch 9/20\n",
            "117/117 [==============================] - 1s 5ms/step - loss: 0.0416 - accuracy: 0.9869 - val_loss: 0.0405 - val_accuracy: 0.9860\n",
            "Epoch 10/20\n",
            "117/117 [==============================] - 1s 5ms/step - loss: 0.0368 - accuracy: 0.9886 - val_loss: 0.0411 - val_accuracy: 0.9853\n",
            "Epoch 11/20\n",
            "117/117 [==============================] - 1s 6ms/step - loss: 0.0338 - accuracy: 0.9894 - val_loss: 0.0382 - val_accuracy: 0.9878\n",
            "Epoch 12/20\n",
            "117/117 [==============================] - 1s 5ms/step - loss: 0.0316 - accuracy: 0.9901 - val_loss: 0.0362 - val_accuracy: 0.9872\n",
            "Epoch 13/20\n",
            "117/117 [==============================] - 1s 7ms/step - loss: 0.0286 - accuracy: 0.9912 - val_loss: 0.0416 - val_accuracy: 0.9852\n",
            "Epoch 14/20\n",
            "117/117 [==============================] - 1s 7ms/step - loss: 0.0270 - accuracy: 0.9915 - val_loss: 0.0386 - val_accuracy: 0.9880\n",
            "Epoch 15/20\n",
            "117/117 [==============================] - 1s 6ms/step - loss: 0.0246 - accuracy: 0.9921 - val_loss: 0.0405 - val_accuracy: 0.9875\n",
            "Epoch 16/20\n",
            "117/117 [==============================] - 1s 6ms/step - loss: 0.0226 - accuracy: 0.9927 - val_loss: 0.0339 - val_accuracy: 0.9881\n",
            "Epoch 17/20\n",
            "117/117 [==============================] - 1s 6ms/step - loss: 0.0207 - accuracy: 0.9933 - val_loss: 0.0377 - val_accuracy: 0.9873\n",
            "Epoch 18/20\n",
            "117/117 [==============================] - 1s 6ms/step - loss: 0.0186 - accuracy: 0.9943 - val_loss: 0.0413 - val_accuracy: 0.9873\n",
            "Epoch 19/20\n",
            "117/117 [==============================] - 1s 7ms/step - loss: 0.0192 - accuracy: 0.9938 - val_loss: 0.0355 - val_accuracy: 0.9892\n",
            "Epoch 20/20\n",
            "117/117 [==============================] - 1s 8ms/step - loss: 0.0154 - accuracy: 0.9949 - val_loss: 0.0349 - val_accuracy: 0.9885\n",
            "313/313 [==============================] - 1s 3ms/step - loss: 0.0356 - accuracy: 0.9882\n",
            "98.820\n"
          ]
        }
      ],
      "source": [
        "epochs = 20\n",
        "batch_size = 512\n",
        "history = model.fit(X_train, y_train, epochs=epochs, batch_size=batch_size,\n",
        "                    steps_per_epoch=X_train.shape[0]//batch_size,\n",
        "                    validation_data=(X_test, y_test),\n",
        "                    validation_steps=X_test.shape[0]//batch_size, verbose = 1)\n",
        "\n",
        "_, acc = model.evaluate(X_test, y_test, verbose = 1)\n",
        "print('%.3f' % (acc * 100.0))\n",
        "\n",
        "\n"
      ]
    },
    {
      "cell_type": "code",
      "execution_count": 6,
      "id": "36b476ec",
      "metadata": {
        "colab": {
          "base_uri": "https://localhost:8080/",
          "height": 545
        },
        "id": "36b476ec",
        "outputId": "5fbacaad-ee28-410f-bb45-2898cc9b680c"
      },
      "outputs": [
        {
          "output_type": "display_data",
          "data": {
            "text/plain": [
              "<Figure size 1000x600 with 1 Axes>"
            ],
            "image/png": "[encoded data removed]"
          },
          "metadata": {}
        }
      ],
      "source": [
        "plt.figure(figsize=(10,6))\n",
        "plt.plot(history.history['accuracy'], color = 'blue', label = 'train')\n",
        "plt.plot(history.history['val_accuracy'], color = 'red', label = 'val')\n",
        "plt.legend()\n",
        "plt.title('Accuracy')\n",
        "plt.show()"
      ]
    },
    {
      "cell_type": "code",
      "execution_count": null,
      "id": "d7abb7d0",
      "metadata": {
        "id": "d7abb7d0"
      },
      "outputs": [],
      "source": []
    }
  ],
  "metadata": {
    "kernelspec": {
      "display_name": "tfkernel",
      "language": "python",
      "name": "tfkernel"
    },
    "language_info": {
      "codemirror_mode": {
        "name": "ipython",
        "version": 3
      },
      "file_extension": ".py",
      "mimetype": "text/x-python",
      "name": "python",
      "nbconvert_exporter": "python",
      "pygments_lexer": "ipython3",
      "version": "3.10.11"
    },
    "colab": {
      "provenance": [],
      "gpuType": "T4"
    },
    "accelerator": "GPU"
  },
  "nbformat": 4,
  "nbformat_minor": 5
}