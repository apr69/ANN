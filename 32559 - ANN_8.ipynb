{
 "cells": [
  {
   "cell_type": "code",
   "execution_count": 1,
   "id": "6ca22e76",
   "metadata": {},
   "outputs": [],
   "source": [
    "import numpy as np\n",
    "import pandas as pd"
   ]
  },
  {
   "cell_type": "code",
   "execution_count": 2,
   "id": "6d42256b",
   "metadata": {},
   "outputs": [],
   "source": [
    "def sigmoid(x):\n",
    "    return 1/ (1 + np.exp(-x))\n",
    "\n",
    "def sigmoid_derivative(x):\n",
    "    return x * (1-x)"
   ]
  },
  {
   "cell_type": "code",
   "execution_count": 3,
   "id": "09bf7d99",
   "metadata": {},
   "outputs": [],
   "source": [
    "class NeuralNetwork:\n",
    "    def __init__(self,inputs,hidden,outputs):\n",
    "        self.weights_ih = np.random.rand(inputs,hidden)\n",
    "        self.weights_ho = np.random.rand(hidden,outputs)\n",
    "        \n",
    "    def feedforward(self,inputs):\n",
    "        hidden_inputs = np.dot(inputs,self.weights_ih)\n",
    "        hidden_outputs = sigmoid(hidden_inputs)\n",
    "        output_inputs = np.dot(hidden_outputs,self.weights_ho)\n",
    "        output_outputs = sigmoid(output_inputs)\n",
    "        \n",
    "        return output_outputs\n",
    "    \n",
    "    def train(self,inputs,targets,learning_rate):\n",
    "        hidden_inputs = np.dot(inputs,self.weights_ih)\n",
    "        hidden_outputs = sigmoid(hidden_inputs)\n",
    "        output_inputs = np.dot(hidden_outputs,self.weights_ho)\n",
    "        output_outputs = sigmoid(output_inputs)\n",
    "        \n",
    "        output_error = targets - output_outputs\n",
    "        \n",
    "        output_dervative = sigmoid_derivative(output_outputs)\n",
    "        \n",
    "        hidden_error = np.dot(output_error,self.weights_ho.T)\n",
    "        \n",
    "        hidden_derivative = sigmoid_derivative(hidden_outputs)\n",
    "        \n",
    "        self.weights_ho += learning_rate * np.dot(hidden_outputs.T,output_error * output_dervative)\n",
    "        \n",
    "        self.weights_ih += learning_rate * np.dot(inputs.T,hidden_error * hidden_derivative)\n",
    "        "
   ]
  },
  {
   "cell_type": "code",
   "execution_count": 10,
   "id": "2fae7106",
   "metadata": {},
   "outputs": [
    {
     "name": "stdout",
     "output_type": "stream",
     "text": [
      "[0.]\n",
      "[0.]\n",
      "[0.]\n",
      "[1.]\n"
     ]
    }
   ],
   "source": [
    "neural_network = NeuralNetwork(2,4,1)\n",
    "\n",
    "inputs = np.array([[0,0],[0,1],[1,0],[1,1]])\n",
    "targets = np.array([[0],[0],[0],[1]])\n",
    "\n",
    "for i in range(10000):\n",
    "    neural_network.train(inputs,targets,0.1)\n",
    "    \n",
    "    \n",
    "print(neural_network.feedforward(np.array([0,0])).round())\n",
    "print(neural_network.feedforward(np.array([0,1])).round())\n",
    "print(neural_network.feedforward(np.array([1,0])).round())\n",
    "print(neural_network.feedforward(np.array([1,1])).round())"
   ]
  }
 ],
 "metadata": {
  "kernelspec": {
   "display_name": "Python 3 (ipykernel)",
   "language": "python",
   "name": "python3"
  },
  "language_info": {
   "codemirror_mode": {
    "name": "ipython",
    "version": 3
   },
   "file_extension": ".py",
   "mimetype": "text/x-python",
   "name": "python",
   "nbconvert_exporter": "python",
   "pygments_lexer": "ipython3",
   "version": "3.9.12"
  }
 },
 "nbformat": 4,
 "nbformat_minor": 5
}
