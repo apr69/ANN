{
 "cells": [
  {
   "cell_type": "code",
   "execution_count": 3,
   "id": "08080123",
   "metadata": {},
   "outputs": [
    {
     "name": "stdout",
     "output_type": "stream",
     "text": [
      "Predicted Output:\n",
      "[[0]\n",
      " [1]\n",
      " [1]\n",
      " [0]]\n"
     ]
    }
   ],
   "source": [
    "import numpy as np\n",
    "\n",
    "def sigmoid(x):\n",
    "    return 1 / (1 + np.exp(-x))\n",
    "\n",
    "def sigmoid_derivative(x):\n",
    "    return x * (1 - x)\n",
    "\n",
    "X = np.array([[0, 0], [0, 1], [1, 0], [1, 1]])\n",
    "y = np.array([[0], [1], [1], [0]])\n",
    "\n",
    "epochs = 10000\n",
    "lr = 0.1\n",
    "\n",
    "input_neurons = 2\n",
    "hidden_neurons = 5\n",
    "output_neurons = 1\n",
    "\n",
    "w_ih = np.random.uniform(size=(input_neurons, hidden_neurons))\n",
    "w_ho = np.random.uniform(size=(hidden_neurons, output_neurons))\n",
    "b_h = np.random.uniform(size=(1, hidden_neurons))\n",
    "b_o = np.random.uniform(size=(1, output_neurons))\n",
    "\n",
    "for _ in range(epochs):\n",
    "    hidden_layer_input = np.dot(X, w_ih) + b_h\n",
    "    hidden_layer_output = sigmoid(hidden_layer_input)\n",
    "    \n",
    "    output_layer_input = np.dot(hidden_layer_output, w_ho) + b_o\n",
    "    output_layer_output = sigmoid(output_layer_input)\n",
    "    \n",
    "    error = y - output_layer_output\n",
    "    d_output = error * sigmoid_derivative(output_layer_output)\n",
    "    \n",
    "    error_hidden = d_output.dot(w_ho.T)\n",
    "    d_hidden = error_hidden * sigmoid_derivative(hidden_layer_output)\n",
    "    \n",
    "    w_ho += hidden_layer_output.T.dot(d_output) * lr\n",
    "    w_ih += X.T.dot(d_hidden) * lr\n",
    "    \n",
    "    b_o += np.sum(d_output, axis=0) * lr\n",
    "    b_h += np.sum(d_hidden, axis=0) * lr\n",
    "\n",
    "output_layer_output = np.round(output_layer_output).astype(int)\n",
    "\n",
    "print(\"Predicted Output:\")\n",
    "print(output_layer_output)\n"
   ]
  },
  {
   "cell_type": "code",
   "execution_count": null,
   "id": "b629be56",
   "metadata": {},
   "outputs": [],
   "source": []
  }
 ],
 "metadata": {
  "kernelspec": {
   "display_name": "Python 3 (ipykernel)",
   "language": "python",
   "name": "python3"
  },
  "language_info": {
   "codemirror_mode": {
    "name": "ipython",
    "version": 3
   },
   "file_extension": ".py",
   "mimetype": "text/x-python",
   "name": "python",
   "nbconvert_exporter": "python",
   "pygments_lexer": "ipython3",
   "version": "3.9.12"
  }
 },
 "nbformat": 4,
 "nbformat_minor": 5
}
