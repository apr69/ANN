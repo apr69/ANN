{
 "cells": [
  {
   "cell_type": "code",
   "execution_count": 6,
   "id": "f12d6732",
   "metadata": {
    "executionInfo": {
     "elapsed": 15,
     "status": "ok",
     "timestamp": 1707201686618,
     "user": {
      "displayName": "ASHISH RANSING",
      "userId": "04089927814465254916"
     },
     "user_tz": -330
    },
    "id": "f12d6732"
   },
   "outputs": [],
   "source": [
    "import numpy as np\n",
    "import pandas as pd\n",
    "import matplotlib.pyplot as plt\n",
    "\n",
    "def check_activation(output):\n",
    "    if output >= 0:\n",
    "        return 1\n",
    "    else:\n",
    "        return 0\n",
    "\n",
    "def testing_prediction(testin_values,weights,bias):\n",
    "    predictions = []\n",
    "    weighted_sum = np.dot(testin_values,weights) + bias\n",
    "    print(\"Weighted Sum : \",weighted_sum)\n",
    "    predictions.append(check_activation(weighted_sum))\n",
    "    return predictions\n",
    "\n",
    "def training_predictions(inputs,labels):\n",
    "    epochs = 1000\n",
    "    bias = 1\n",
    "    weights = np.random.rand(2)\n",
    "    weighted_sum = 0\n",
    "    learning_rate = 0.1\n",
    "\n",
    "    for epoch in range(epochs):\n",
    "        for j in range(len(inputs)):\n",
    "            weighted_sum = np.dot(inputs[j],weights) + bias\n",
    "            predict = check_activation(weighted_sum)\n",
    "            error = labels[j] - predict\n",
    "            weights = weights + learning_rate*(error)*inputs[j]\n",
    "            bias = bias + learning_rate*error\n",
    "\n",
    "    return weights,bias"
   ]
  },
  {
   "cell_type": "code",
   "execution_count": 7,
   "id": "dfa32bbe",
   "metadata": {
    "executionInfo": {
     "elapsed": 14,
     "status": "ok",
     "timestamp": 1707201686618,
     "user": {
      "displayName": "ASHISH RANSING",
      "userId": "04089927814465254916"
     },
     "user_tz": -330
    },
    "id": "dfa32bbe"
   },
   "outputs": [],
   "source": [
    "inputs = np.array([[1,1],[2,2],[4,4],[5,5]])\n",
    "labels = np.array([0,0,1,1])"
   ]
  },
  {
   "cell_type": "code",
   "execution_count": 8,
   "id": "8ae876e8",
   "metadata": {
    "colab": {
     "base_uri": "https://localhost:8080/"
    },
    "executionInfo": {
     "elapsed": 13,
     "status": "ok",
     "timestamp": 1707201686618,
     "user": {
      "displayName": "ASHISH RANSING",
      "userId": "04089927814465254916"
     },
     "user_tz": -330
    },
    "id": "8ae876e8",
    "outputId": "5883e69a-c7f3-4d28-8392-d0f6a45906ab"
   },
   "outputs": [
    {
     "name": "stdout",
     "output_type": "stream",
     "text": [
      "[-0.07362493  0.11860453]\n",
      "-0.09999999999999987\n"
     ]
    }
   ],
   "source": [
    "weights,bias = training_predictions(inputs,labels)\n",
    "print(weights)\n",
    "print(bias)"
   ]
  },
  {
   "cell_type": "code",
   "execution_count": 9,
   "id": "5bbdf94b",
   "metadata": {
    "colab": {
     "base_uri": "https://localhost:8080/"
    },
    "executionInfo": {
     "elapsed": 11,
     "status": "ok",
     "timestamp": 1707201686618,
     "user": {
      "displayName": "ASHISH RANSING",
      "userId": "04089927814465254916"
     },
     "user_tz": -330
    },
    "id": "5bbdf94b",
    "outputId": "590f3501-30ba-4f77-ca57-ce17dee46192"
   },
   "outputs": [
    {
     "name": "stdout",
     "output_type": "stream",
     "text": [
      "Weighted Sum :  -0.30454053885407184\n",
      "[0]\n"
     ]
    }
   ],
   "source": [
    "test = [6,2]\n",
    "print(testing_prediction(test,weights,bias))"
   ]
  },
  {
   "cell_type": "code",
   "execution_count": 10,
   "id": "f5c3a2c2",
   "metadata": {
    "colab": {
     "base_uri": "https://localhost:8080/",
     "height": 0
    },
    "executionInfo": {
     "elapsed": 839,
     "status": "ok",
     "timestamp": 1707201687448,
     "user": {
      "displayName": "ASHISH RANSING",
      "userId": "04089927814465254916"
     },
     "user_tz": -330
    },
    "id": "f5c3a2c2",
    "outputId": "bddc9e95-5301-49da-ec3c-d73e6d79197e"
   },
   "outputs": [
    {
     "data": {
      "image/png": "[encoded data removed]",
      "text/plain": [
       "<Figure size 640x480 with 1 Axes>"
      ]
     },
     "metadata": {},
     "output_type": "display_data"
    }
   ],
   "source": [
    "df = pd.DataFrame(inputs,columns=['X','Y'])\n",
    "x = df['X']\n",
    "y = (-weights[0]/weights[1])*df['X'] - (bias/weights[1])\n",
    "\n",
    "fig, ax = plt.subplots()\n",
    "colors = np.where(df['Y'] > y, 'orange', 'green')\n",
    "ax.plot(x, y)\n",
    "ax.set_ylim(0, 10)\n",
    "plt.scatter(x=6,y=2,color='red')\n",
    "plt.scatter(x=df['X'],y=df['Y'],c = colors)\n",
    "plt.grid(True)\n",
    "plt.show()"
   ]
  },
  {
   "cell_type": "code",
   "execution_count": 10,
   "id": "e2c7ca33",
   "metadata": {
    "executionInfo": {
     "elapsed": 5,
     "status": "ok",
     "timestamp": 1707201687449,
     "user": {
      "displayName": "ASHISH RANSING",
      "userId": "04089927814465254916"
     },
     "user_tz": -330
    },
    "id": "e2c7ca33"
   },
   "outputs": [],
   "source": []
  }
 ],
 "metadata": {
  "colab": {
   "provenance": []
  },
  "kernelspec": {
   "display_name": "Python 3 (ipykernel)",
   "language": "python",
   "name": "python3"
  },
  "language_info": {
   "codemirror_mode": {
    "name": "ipython",
    "version": 3
   },
   "file_extension": ".py",
   "mimetype": "text/x-python",
   "name": "python",
   "nbconvert_exporter": "python",
   "pygments_lexer": "ipython3",
   "version": "3.9.12"
  }
 },
 "nbformat": 4,
 "nbformat_minor": 5
}
